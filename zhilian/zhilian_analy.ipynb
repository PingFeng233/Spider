{
 "cells": [
  {
   "cell_type": "code",
   "execution_count": 1,
   "metadata": {},
   "outputs": [],
   "source": [
    "import numpy as np\n",
    "import pandas as pd\n",
    "import matplotlib.pyplot as plt"
   ]
  },
  {
   "cell_type": "code",
   "execution_count": 2,
   "metadata": {},
   "outputs": [],
   "source": [
    "df  = pd.read_csv('./zhilian3.csv',encoding='utf_8_sig',header=None)"
   ]
  },
  {
   "cell_type": "code",
   "execution_count": 3,
   "metadata": {},
   "outputs": [
    {
     "data": {
      "text/html": [
       "<div>\n",
       "<style scoped>\n",
       "    .dataframe tbody tr th:only-of-type {\n",
       "        vertical-align: middle;\n",
       "    }\n",
       "\n",
       "    .dataframe tbody tr th {\n",
       "        vertical-align: top;\n",
       "    }\n",
       "\n",
       "    .dataframe thead th {\n",
       "        text-align: right;\n",
       "    }\n",
       "</style>\n",
       "<table border=\"1\" class=\"dataframe\">\n",
       "  <thead>\n",
       "    <tr style=\"text-align: right;\">\n",
       "      <th></th>\n",
       "      <th>0</th>\n",
       "      <th>1</th>\n",
       "      <th>2</th>\n",
       "      <th>3</th>\n",
       "      <th>4</th>\n",
       "      <th>5</th>\n",
       "      <th>6</th>\n",
       "      <th>7</th>\n",
       "      <th>8</th>\n",
       "      <th>9</th>\n",
       "      <th>10</th>\n",
       "    </tr>\n",
       "  </thead>\n",
       "  <tbody>\n",
       "    <tr>\n",
       "      <th>0</th>\n",
       "      <td>Python开发工程师</td>\n",
       "      <td>西安</td>\n",
       "      <td>6K-10K</td>\n",
       "      <td>1-3年</td>\n",
       "      <td>本科</td>\n",
       "      <td>2018-09-11</td>\n",
       "      <td>五险一金|绩效奖金|年终分红|弹性工作|补充医疗保险</td>\n",
       "      <td>西安鼎拓信息科技有限公司</td>\n",
       "      <td>20-99人</td>\n",
       "      <td>民营</td>\n",
       "      <td>https://jobs.zhaopin.com/636228122250066.htm</td>\n",
       "    </tr>\n",
       "    <tr>\n",
       "      <th>1</th>\n",
       "      <td>数据分析工程师</td>\n",
       "      <td>广州</td>\n",
       "      <td>6K-9K</td>\n",
       "      <td>不限</td>\n",
       "      <td>本科</td>\n",
       "      <td>2018-09-13</td>\n",
       "      <td>五险一金|周末双休|带薪年假|弹性工作|绩效奖金</td>\n",
       "      <td>华远智德(北京)科技有限公司</td>\n",
       "      <td>20-99人</td>\n",
       "      <td>民营</td>\n",
       "      <td>https://jobs.zhaopin.com/CZ773821670J000938793...</td>\n",
       "    </tr>\n",
       "    <tr>\n",
       "      <th>2</th>\n",
       "      <td>自动化测试脚本工程师</td>\n",
       "      <td>成都</td>\n",
       "      <td>10K-15K</td>\n",
       "      <td>不限</td>\n",
       "      <td>不限</td>\n",
       "      <td>2018-09-10</td>\n",
       "      <td>五险一金|绩效奖金|交通补助|带薪年假|弹性工作</td>\n",
       "      <td>沃奇卫士技术(北京)有限责任公司成都分公司</td>\n",
       "      <td>100-499人</td>\n",
       "      <td>外商独资</td>\n",
       "      <td>https://jobs.zhaopin.com/395810911250062.htm</td>\n",
       "    </tr>\n",
       "    <tr>\n",
       "      <th>3</th>\n",
       "      <td>System Engineer/系统工程师</td>\n",
       "      <td>武汉</td>\n",
       "      <td>7K-14K</td>\n",
       "      <td>不限</td>\n",
       "      <td>本科</td>\n",
       "      <td>2018-09-07</td>\n",
       "      <td>节日福利|五险一金|绩效奖金|股票期权|包吃</td>\n",
       "      <td>法雷奥舒适及驾驶辅助系统武汉技术中心</td>\n",
       "      <td>500-999人</td>\n",
       "      <td>外商独资</td>\n",
       "      <td>https://jobs.zhaopin.com/131332775250170.htm</td>\n",
       "    </tr>\n",
       "    <tr>\n",
       "      <th>4</th>\n",
       "      <td>诚聘c++工程师</td>\n",
       "      <td>广州</td>\n",
       "      <td>7.5K-15K</td>\n",
       "      <td>1-3年</td>\n",
       "      <td>不限</td>\n",
       "      <td>2018-09-13</td>\n",
       "      <td>五险一金|绩效奖金|加班补助|餐补|包住</td>\n",
       "      <td>广州中侠软件有限公司</td>\n",
       "      <td>20人以下</td>\n",
       "      <td>民营</td>\n",
       "      <td>https://jobs.zhaopin.com/CZ600434720J001358650...</td>\n",
       "    </tr>\n",
       "  </tbody>\n",
       "</table>\n",
       "</div>"
      ],
      "text/plain": [
       "                      0   1         2     3   4           5   \\\n",
       "0            Python开发工程师  西安    6K-10K  1-3年  本科  2018-09-11   \n",
       "1                数据分析工程师  广州     6K-9K    不限  本科  2018-09-13   \n",
       "2             自动化测试脚本工程师  成都   10K-15K    不限  不限  2018-09-10   \n",
       "3  System Engineer/系统工程师  武汉    7K-14K    不限  本科  2018-09-07   \n",
       "4               诚聘c++工程师  广州  7.5K-15K  1-3年  不限  2018-09-13   \n",
       "\n",
       "                           6                      7         8     9   \\\n",
       "0  五险一金|绩效奖金|年终分红|弹性工作|补充医疗保险           西安鼎拓信息科技有限公司    20-99人    民营   \n",
       "1    五险一金|周末双休|带薪年假|弹性工作|绩效奖金         华远智德(北京)科技有限公司    20-99人    民营   \n",
       "2    五险一金|绩效奖金|交通补助|带薪年假|弹性工作  沃奇卫士技术(北京)有限责任公司成都分公司  100-499人  外商独资   \n",
       "3      节日福利|五险一金|绩效奖金|股票期权|包吃     法雷奥舒适及驾驶辅助系统武汉技术中心  500-999人  外商独资   \n",
       "4        五险一金|绩效奖金|加班补助|餐补|包住             广州中侠软件有限公司     20人以下    民营   \n",
       "\n",
       "                                                  10  \n",
       "0       https://jobs.zhaopin.com/636228122250066.htm  \n",
       "1  https://jobs.zhaopin.com/CZ773821670J000938793...  \n",
       "2       https://jobs.zhaopin.com/395810911250062.htm  \n",
       "3       https://jobs.zhaopin.com/131332775250170.htm  \n",
       "4  https://jobs.zhaopin.com/CZ600434720J001358650...  "
      ]
     },
     "execution_count": 3,
     "metadata": {},
     "output_type": "execute_result"
    }
   ],
   "source": [
    "df.head(5)"
   ]
  },
  {
   "cell_type": "code",
   "execution_count": 4,
   "metadata": {},
   "outputs": [
    {
     "data": {
      "text/plain": [
       "(39677, 11)"
      ]
     },
     "execution_count": 4,
     "metadata": {},
     "output_type": "execute_result"
    }
   ],
   "source": [
    "df.shape"
   ]
  },
  {
   "cell_type": "code",
   "execution_count": 5,
   "metadata": {},
   "outputs": [],
   "source": [
    "df.index=range(1,len(df)+1)"
   ]
  },
  {
   "cell_type": "code",
   "execution_count": 6,
   "metadata": {
    "scrolled": true
   },
   "outputs": [
    {
     "data": {
      "text/html": [
       "<div>\n",
       "<style scoped>\n",
       "    .dataframe tbody tr th:only-of-type {\n",
       "        vertical-align: middle;\n",
       "    }\n",
       "\n",
       "    .dataframe tbody tr th {\n",
       "        vertical-align: top;\n",
       "    }\n",
       "\n",
       "    .dataframe thead th {\n",
       "        text-align: right;\n",
       "    }\n",
       "</style>\n",
       "<table border=\"1\" class=\"dataframe\">\n",
       "  <thead>\n",
       "    <tr style=\"text-align: right;\">\n",
       "      <th></th>\n",
       "      <th>岗位</th>\n",
       "      <th>城市</th>\n",
       "      <th>薪资</th>\n",
       "      <th>年限</th>\n",
       "      <th>学历</th>\n",
       "      <th>更新时间</th>\n",
       "      <th>福利</th>\n",
       "      <th>公司</th>\n",
       "      <th>规模</th>\n",
       "      <th>类型</th>\n",
       "      <th>链接</th>\n",
       "    </tr>\n",
       "  </thead>\n",
       "  <tbody>\n",
       "    <tr>\n",
       "      <th>1</th>\n",
       "      <td>Python开发工程师</td>\n",
       "      <td>西安</td>\n",
       "      <td>6K-10K</td>\n",
       "      <td>1-3年</td>\n",
       "      <td>本科</td>\n",
       "      <td>2018-09-11</td>\n",
       "      <td>五险一金|绩效奖金|年终分红|弹性工作|补充医疗保险</td>\n",
       "      <td>西安鼎拓信息科技有限公司</td>\n",
       "      <td>20-99人</td>\n",
       "      <td>民营</td>\n",
       "      <td>https://jobs.zhaopin.com/636228122250066.htm</td>\n",
       "    </tr>\n",
       "    <tr>\n",
       "      <th>2</th>\n",
       "      <td>数据分析工程师</td>\n",
       "      <td>广州</td>\n",
       "      <td>6K-9K</td>\n",
       "      <td>不限</td>\n",
       "      <td>本科</td>\n",
       "      <td>2018-09-13</td>\n",
       "      <td>五险一金|周末双休|带薪年假|弹性工作|绩效奖金</td>\n",
       "      <td>华远智德(北京)科技有限公司</td>\n",
       "      <td>20-99人</td>\n",
       "      <td>民营</td>\n",
       "      <td>https://jobs.zhaopin.com/CZ773821670J000938793...</td>\n",
       "    </tr>\n",
       "    <tr>\n",
       "      <th>3</th>\n",
       "      <td>自动化测试脚本工程师</td>\n",
       "      <td>成都</td>\n",
       "      <td>10K-15K</td>\n",
       "      <td>不限</td>\n",
       "      <td>不限</td>\n",
       "      <td>2018-09-10</td>\n",
       "      <td>五险一金|绩效奖金|交通补助|带薪年假|弹性工作</td>\n",
       "      <td>沃奇卫士技术(北京)有限责任公司成都分公司</td>\n",
       "      <td>100-499人</td>\n",
       "      <td>外商独资</td>\n",
       "      <td>https://jobs.zhaopin.com/395810911250062.htm</td>\n",
       "    </tr>\n",
       "    <tr>\n",
       "      <th>4</th>\n",
       "      <td>System Engineer/系统工程师</td>\n",
       "      <td>武汉</td>\n",
       "      <td>7K-14K</td>\n",
       "      <td>不限</td>\n",
       "      <td>本科</td>\n",
       "      <td>2018-09-07</td>\n",
       "      <td>节日福利|五险一金|绩效奖金|股票期权|包吃</td>\n",
       "      <td>法雷奥舒适及驾驶辅助系统武汉技术中心</td>\n",
       "      <td>500-999人</td>\n",
       "      <td>外商独资</td>\n",
       "      <td>https://jobs.zhaopin.com/131332775250170.htm</td>\n",
       "    </tr>\n",
       "    <tr>\n",
       "      <th>5</th>\n",
       "      <td>诚聘c++工程师</td>\n",
       "      <td>广州</td>\n",
       "      <td>7.5K-15K</td>\n",
       "      <td>1-3年</td>\n",
       "      <td>不限</td>\n",
       "      <td>2018-09-13</td>\n",
       "      <td>五险一金|绩效奖金|加班补助|餐补|包住</td>\n",
       "      <td>广州中侠软件有限公司</td>\n",
       "      <td>20人以下</td>\n",
       "      <td>民营</td>\n",
       "      <td>https://jobs.zhaopin.com/CZ600434720J001358650...</td>\n",
       "    </tr>\n",
       "  </tbody>\n",
       "</table>\n",
       "</div>"
      ],
      "text/plain": [
       "                      岗位  城市        薪资    年限  学历        更新时间  \\\n",
       "1            Python开发工程师  西安    6K-10K  1-3年  本科  2018-09-11   \n",
       "2                数据分析工程师  广州     6K-9K    不限  本科  2018-09-13   \n",
       "3             自动化测试脚本工程师  成都   10K-15K    不限  不限  2018-09-10   \n",
       "4  System Engineer/系统工程师  武汉    7K-14K    不限  本科  2018-09-07   \n",
       "5               诚聘c++工程师  广州  7.5K-15K  1-3年  不限  2018-09-13   \n",
       "\n",
       "                           福利                     公司        规模    类型  \\\n",
       "1  五险一金|绩效奖金|年终分红|弹性工作|补充医疗保险           西安鼎拓信息科技有限公司    20-99人    民营   \n",
       "2    五险一金|周末双休|带薪年假|弹性工作|绩效奖金         华远智德(北京)科技有限公司    20-99人    民营   \n",
       "3    五险一金|绩效奖金|交通补助|带薪年假|弹性工作  沃奇卫士技术(北京)有限责任公司成都分公司  100-499人  外商独资   \n",
       "4      节日福利|五险一金|绩效奖金|股票期权|包吃     法雷奥舒适及驾驶辅助系统武汉技术中心  500-999人  外商独资   \n",
       "5        五险一金|绩效奖金|加班补助|餐补|包住             广州中侠软件有限公司     20人以下    民营   \n",
       "\n",
       "                                                  链接  \n",
       "1       https://jobs.zhaopin.com/636228122250066.htm  \n",
       "2  https://jobs.zhaopin.com/CZ773821670J000938793...  \n",
       "3       https://jobs.zhaopin.com/395810911250062.htm  \n",
       "4       https://jobs.zhaopin.com/131332775250170.htm  \n",
       "5  https://jobs.zhaopin.com/CZ600434720J001358650...  "
      ]
     },
     "execution_count": 6,
     "metadata": {},
     "output_type": "execute_result"
    }
   ],
   "source": [
    "df.columns = ['岗位','城市','薪资','年限','学历','更新时间','福利','公司','规模','类型','链接']\n",
    "df.head(5)"
   ]
  },
  {
   "cell_type": "code",
   "execution_count": 7,
   "metadata": {},
   "outputs": [],
   "source": [
    "df['bottom']=df['top']=df['avg']=df['薪资']\n",
    "pattern = '(\\d+\\.?\\d+|\\d+)'\n",
    "q1=q2=q3=q4=0"
   ]
  },
  {
   "cell_type": "code",
   "execution_count": 8,
   "metadata": {},
   "outputs": [],
   "source": [
    "import re"
   ]
  },
  {
   "cell_type": "code",
   "execution_count": 12,
   "metadata": {},
   "outputs": [],
   "source": [
    "for i in range(len(df['薪资'])):\n",
    "    line = df['薪资'].iloc[i]\n",
    "    try:\n",
    "        res = re.findall(pattern, line)\n",
    "        if res:\n",
    "            if len(res) == 2:\n",
    "                df['bottom'].iloc[i], df['top'].iloc[i] = res[0], res[1]\n",
    "                df['avg'].iloc[i] = str((float(res[0]) + float(res[1])) / 2)\n",
    "                q1 += 1\n",
    "            elif len(res) == 1:\n",
    "                df['bottom'].iloc[i] = df['top'].iloc[i] = df['avg'].iloc[i] = res[0]\n",
    "                q2 += 1\n",
    "        else:\n",
    "            df['bottom'].iloc[i] = df['top'].iloc[i] = df['avg'].iloc[i] = line\n",
    "            q3 += 1\n",
    "    except:\n",
    "        q4 +=1"
   ]
  },
  {
   "cell_type": "code",
   "execution_count": 13,
   "metadata": {},
   "outputs": [
    {
     "data": {
      "text/html": [
       "<div>\n",
       "<style scoped>\n",
       "    .dataframe tbody tr th:only-of-type {\n",
       "        vertical-align: middle;\n",
       "    }\n",
       "\n",
       "    .dataframe tbody tr th {\n",
       "        vertical-align: top;\n",
       "    }\n",
       "\n",
       "    .dataframe thead th {\n",
       "        text-align: right;\n",
       "    }\n",
       "</style>\n",
       "<table border=\"1\" class=\"dataframe\">\n",
       "  <thead>\n",
       "    <tr style=\"text-align: right;\">\n",
       "      <th></th>\n",
       "      <th>薪资</th>\n",
       "      <th>bottom</th>\n",
       "      <th>top</th>\n",
       "      <th>avg</th>\n",
       "    </tr>\n",
       "  </thead>\n",
       "  <tbody>\n",
       "    <tr>\n",
       "      <th>1</th>\n",
       "      <td>6K-10K</td>\n",
       "      <td>6</td>\n",
       "      <td>10</td>\n",
       "      <td>8.0</td>\n",
       "    </tr>\n",
       "    <tr>\n",
       "      <th>2</th>\n",
       "      <td>6K-9K</td>\n",
       "      <td>6</td>\n",
       "      <td>9</td>\n",
       "      <td>7.5</td>\n",
       "    </tr>\n",
       "    <tr>\n",
       "      <th>3</th>\n",
       "      <td>10K-15K</td>\n",
       "      <td>10</td>\n",
       "      <td>15</td>\n",
       "      <td>12.5</td>\n",
       "    </tr>\n",
       "    <tr>\n",
       "      <th>4</th>\n",
       "      <td>7K-14K</td>\n",
       "      <td>7</td>\n",
       "      <td>14</td>\n",
       "      <td>10.5</td>\n",
       "    </tr>\n",
       "    <tr>\n",
       "      <th>5</th>\n",
       "      <td>7.5K-15K</td>\n",
       "      <td>7.5</td>\n",
       "      <td>15</td>\n",
       "      <td>11.25</td>\n",
       "    </tr>\n",
       "    <tr>\n",
       "      <th>6</th>\n",
       "      <td>8K-10K</td>\n",
       "      <td>8</td>\n",
       "      <td>10</td>\n",
       "      <td>9.0</td>\n",
       "    </tr>\n",
       "    <tr>\n",
       "      <th>7</th>\n",
       "      <td>12K-24K</td>\n",
       "      <td>12</td>\n",
       "      <td>24</td>\n",
       "      <td>18.0</td>\n",
       "    </tr>\n",
       "    <tr>\n",
       "      <th>8</th>\n",
       "      <td>7K-14K</td>\n",
       "      <td>7</td>\n",
       "      <td>14</td>\n",
       "      <td>10.5</td>\n",
       "    </tr>\n",
       "    <tr>\n",
       "      <th>9</th>\n",
       "      <td>4K-6K</td>\n",
       "      <td>4</td>\n",
       "      <td>6</td>\n",
       "      <td>5.0</td>\n",
       "    </tr>\n",
       "    <tr>\n",
       "      <th>10</th>\n",
       "      <td>10K-15K</td>\n",
       "      <td>10</td>\n",
       "      <td>15</td>\n",
       "      <td>12.5</td>\n",
       "    </tr>\n",
       "  </tbody>\n",
       "</table>\n",
       "</div>"
      ],
      "text/plain": [
       "          薪资 bottom top    avg\n",
       "1     6K-10K      6  10    8.0\n",
       "2      6K-9K      6   9    7.5\n",
       "3    10K-15K     10  15   12.5\n",
       "4     7K-14K      7  14   10.5\n",
       "5   7.5K-15K    7.5  15  11.25\n",
       "6     8K-10K      8  10    9.0\n",
       "7    12K-24K     12  24   18.0\n",
       "8     7K-14K      7  14   10.5\n",
       "9      4K-6K      4   6    5.0\n",
       "10   10K-15K     10  15   12.5"
      ]
     },
     "execution_count": 13,
     "metadata": {},
     "output_type": "execute_result"
    }
   ],
   "source": [
    "df[['薪资','bottom','top','avg']].head(10)"
   ]
  },
  {
   "cell_type": "code",
   "execution_count": 14,
   "metadata": {
    "scrolled": true
   },
   "outputs": [
    {
     "data": {
      "text/plain": [
       "(111911, 0, 1, 2)"
      ]
     },
     "execution_count": 14,
     "metadata": {},
     "output_type": "execute_result"
    }
   ],
   "source": [
    "q1,q2,q3,q4"
   ]
  },
  {
   "cell_type": "code",
   "execution_count": 16,
   "metadata": {},
   "outputs": [
    {
     "data": {
      "text/plain": [
       "39677"
      ]
     },
     "execution_count": 16,
     "metadata": {},
     "output_type": "execute_result"
    }
   ],
   "source": [
    "len(df['城市'])"
   ]
  },
  {
   "cell_type": "code",
   "execution_count": 15,
   "metadata": {},
   "outputs": [
    {
     "data": {
      "text/plain": [
       "北京        7860\n",
       "成都        3146\n",
       "广州        2358\n",
       "杭州        2357\n",
       "武汉        1970\n",
       "郑州        1968\n",
       "重庆        1959\n",
       "上海        1574\n",
       "长沙        1573\n",
       "南京        1571\n",
       "西安        1565\n",
       "济南        1220\n",
       "深圳        1178\n",
       "合肥        1173\n",
       "大连        1129\n",
       "珠海         790\n",
       "青岛         790\n",
       "长春         785\n",
       "贵阳         395\n",
       "东莞         395\n",
       "宁波         395\n",
       "日本         395\n",
       "哈尔滨        395\n",
       "苏州         393\n",
       "太原         390\n",
       "无锡         390\n",
       "呼和浩特       390\n",
       "天津         390\n",
       "西宁         390\n",
       "沈阳         390\n",
       "20-99人       1\n",
       "Name: 城市, dtype: int64"
      ]
     },
     "execution_count": 15,
     "metadata": {},
     "output_type": "execute_result"
    }
   ],
   "source": [
    "df['城市'].value_counts()"
   ]
  },
  {
   "cell_type": "code",
   "execution_count": 23,
   "metadata": {},
   "outputs": [
    {
     "data": {
      "text/plain": [
       "30"
      ]
     },
     "execution_count": 23,
     "metadata": {},
     "output_type": "execute_result"
    }
   ],
   "source": [
    "df_城市 = df['城市'].replace(['20-99人'],np.nan)\n",
    "len(df_城市.value_counts())"
   ]
  },
  {
   "cell_type": "code",
   "execution_count": 24,
   "metadata": {},
   "outputs": [
    {
     "data": {
      "text/plain": [
       "北京      7860\n",
       "成都      3146\n",
       "广州      2358\n",
       "杭州      2357\n",
       "武汉      1970\n",
       "郑州      1968\n",
       "重庆      1959\n",
       "上海      1574\n",
       "长沙      1573\n",
       "南京      1571\n",
       "西安      1565\n",
       "济南      1220\n",
       "深圳      1178\n",
       "合肥      1173\n",
       "大连      1129\n",
       "珠海       790\n",
       "青岛       790\n",
       "长春       785\n",
       "宁波       395\n",
       "日本       395\n",
       "贵阳       395\n",
       "东莞       395\n",
       "哈尔滨      395\n",
       "苏州       393\n",
       "西宁       390\n",
       "呼和浩特     390\n",
       "无锡       390\n",
       "天津       390\n",
       "沈阳       390\n",
       "太原       390\n",
       "Name: 城市, dtype: int64"
      ]
     },
     "execution_count": 24,
     "metadata": {},
     "output_type": "execute_result"
    }
   ],
   "source": [
    "df_城市.value_counts()"
   ]
  },
  {
   "cell_type": "code",
   "execution_count": 25,
   "metadata": {
    "scrolled": true
   },
   "outputs": [
    {
     "data": {
      "text/plain": [
       "30"
      ]
     },
     "execution_count": 25,
     "metadata": {},
     "output_type": "execute_result"
    }
   ],
   "source": [
    "len(df_城市.value_counts())"
   ]
  },
  {
   "cell_type": "code",
   "execution_count": 26,
   "metadata": {},
   "outputs": [
    {
     "data": {
      "text/plain": [
       "111912"
      ]
     },
     "execution_count": 26,
     "metadata": {},
     "output_type": "execute_result"
    }
   ],
   "source": [
    "q1+q2+q3"
   ]
  },
  {
   "cell_type": "code",
   "execution_count": 28,
   "metadata": {
    "collapsed": false
   },
   "outputs": [
    {
     "data": {
      "text/plain": [
       "([<matplotlib.patches.Wedge at 0x24e372e3e48>,\n",
       "  <matplotlib.patches.Wedge at 0x24e37250470>,\n",
       "  <matplotlib.patches.Wedge at 0x24e37250940>,\n",
       "  <matplotlib.patches.Wedge at 0x24e37250e48>,\n",
       "  <matplotlib.patches.Wedge at 0x24e372f23c8>,\n",
       "  <matplotlib.patches.Wedge at 0x24e372f2908>,\n",
       "  <matplotlib.patches.Wedge at 0x24e372f2e48>,\n",
       "  <matplotlib.patches.Wedge at 0x24e372ff3c8>,\n",
       "  <matplotlib.patches.Wedge at 0x24e372ff908>,\n",
       "  <matplotlib.patches.Wedge at 0x24e372ffe48>,\n",
       "  <matplotlib.patches.Wedge at 0x24e372c3dd8>,\n",
       "  <matplotlib.patches.Wedge at 0x24e373078d0>,\n",
       "  <matplotlib.patches.Wedge at 0x24e37307e10>,\n",
       "  <matplotlib.patches.Wedge at 0x24e37310390>,\n",
       "  <matplotlib.patches.Wedge at 0x24e373108d0>,\n",
       "  <matplotlib.patches.Wedge at 0x24e37310e10>,\n",
       "  <matplotlib.patches.Wedge at 0x24e3731a390>,\n",
       "  <matplotlib.patches.Wedge at 0x24e3731a8d0>,\n",
       "  <matplotlib.patches.Wedge at 0x24e3731ae10>,\n",
       "  <matplotlib.patches.Wedge at 0x24e37323390>,\n",
       "  <matplotlib.patches.Wedge at 0x24e373238d0>,\n",
       "  <matplotlib.patches.Wedge at 0x24e37323e10>,\n",
       "  <matplotlib.patches.Wedge at 0x24e3732b390>,\n",
       "  <matplotlib.patches.Wedge at 0x24e3732b8d0>,\n",
       "  <matplotlib.patches.Wedge at 0x24e3732be10>,\n",
       "  <matplotlib.patches.Wedge at 0x24e37335390>,\n",
       "  <matplotlib.patches.Wedge at 0x24e373358d0>,\n",
       "  <matplotlib.patches.Wedge at 0x24e37335e10>,\n",
       "  <matplotlib.patches.Wedge at 0x24e3733f390>,\n",
       "  <matplotlib.patches.Wedge at 0x24e3733f8d0>],\n",
       " [Text(0.974981,0.69958,'北京19.8%'),\n",
       "  Text(0.0844944,1.09675,'成都7.9%'),\n",
       "  Text(-0.386417,1.02989,'广州5.9%'),\n",
       "  Text(-0.735444,0.817999,'杭州5.9%'),\n",
       "  Text(-0.967517,0.523365,'武汉5.0%'),\n",
       "  Text(-1.08143,0.201288,'郑州5.0%'),\n",
       "  Text(-1.09115,-0.139253,'重庆4.9%'),\n",
       "  Text(-1.01028,-0.435134,'上海4.0%'),\n",
       "  Text(-0.871755,-0.670852,'长沙4.0%'),\n",
       "  Text(-0.679585,-0.864965,'南京4.0%'),\n",
       "  Text(-0.446147,-1.00546,''),\n",
       "  Text(-0.2154,-1.0787,''),\n",
       "  Text(-0.00792642,-1.09997,''),\n",
       "  Text(0.195805,-1.08243,''),\n",
       "  Text(0.388781,-1.029,''),\n",
       "  Text(0.540063,-0.958296,''),\n",
       "  Text(0.655424,-0.883413,''),\n",
       "  Text(0.760225,-0.795021,''),\n",
       "  Text(0.831086,-0.720622,''),\n",
       "  Text(0.87451,-0.667257,''),\n",
       "  Text(0.914514,-0.611281,''),\n",
       "  Text(0.950939,-0.552914,''),\n",
       "  Text(0.983645,-0.492384,''),\n",
       "  Text(1.01243,-0.430088,''),\n",
       "  Text(1.03714,-0.366529,''),\n",
       "  Text(1.05778,-0.301813,''),\n",
       "  Text(1.0744,-0.235945,''),\n",
       "  Text(1.08691,-0.169178,''),\n",
       "  Text(1.09528,-0.101766,''),\n",
       "  Text(1.09948,-0.0339651,'')])"
      ]
     },
     "execution_count": 28,
     "metadata": {},
     "output_type": "execute_result"
    },
    {
     "data": {
      "image/png": "[encoded data removed]",
      "text/plain": [
       "<Figure size 1800x1152 with 2 Axes>"
      ]
     },
     "metadata": {},
     "output_type": "display_data"
    }
   ],
   "source": [
    "fig1 = plt.figure(figsize=(25,16),facecolor='white')\n",
    "ax1 = fig1.add_subplot(2,1,1,facecolor='#cccccc',alpha=0.2)\n",
    "from pylab import mpl \n",
    "mpl.rcParams['font.sans-serif']=['SimHei']\n",
    "df_城市.value_counts().plot(kind='bar')\n",
    "plt.title('城市-岗位数量分布图',fontsize=20)\n",
    "plt.xlabel('城市',fontsize=16)\n",
    "plt.ylabel('岗位数量',fontsize=16)\n",
    "city_list = list(df_城市.value_counts())\n",
    "for i in range(len(city_list)):\n",
    "    ax1.text(i-0.25,city_list[i]+100,city_list[i],fontsize=12)\n",
    "ax1.text(25,7500,'城市数量:30(个)',fontsize=12)\n",
    "ax1.text(25,7000,'职位总数:39677(条)',fontsize=12)\n",
    "\n",
    "ax2 = fig1.add_subplot(2,1,2)\n",
    "x = df_城市.value_counts().values\n",
    "label_list = []\n",
    "for i in range(10):\n",
    "    t=df_城市.value_counts().values[i]/df_城市.value_counts().sum()*100\n",
    "    city = df_城市.value_counts().index[i]\n",
    "    percent = str('%.1f%%'%t)\n",
    "    label_list.append(city+percent)\n",
    "labels = label_list + ['']*(len(city_list)-10)\n",
    "explode = tuple([0.1] + [0]*(len(city_list)-1))\n",
    "plt.pie(x,explode=explode,labels=labels)"
   ]
  },
  {
   "cell_type": "code",
   "execution_count": 29,
   "metadata": {},
   "outputs": [
    {
     "data": {
      "text/plain": [
       "不限                                                      21566\n",
       "1-3年                                                     9446\n",
       "3-5年                                                     7090\n",
       "无经验                                                       786\n",
       "5-10年                                                     393\n",
       "1年以下                                                      393\n",
       "https://jobs.zhaopin.com/CC643811139J00068461915.htm        1\n",
       "Name: 年限, dtype: int64"
      ]
     },
     "execution_count": 29,
     "metadata": {},
     "output_type": "execute_result"
    }
   ],
   "source": [
    "df.年限.value_counts()"
   ]
  },
  {
   "cell_type": "code",
   "execution_count": 30,
   "metadata": {},
   "outputs": [
    {
     "data": {
      "text/plain": [
       "不限       21566\n",
       "1-3年      9446\n",
       "3-5年      7090\n",
       "无经验        786\n",
       "5-10年      393\n",
       "1年以下       393\n",
       "Name: 年限, dtype: int64"
      ]
     },
     "execution_count": 30,
     "metadata": {},
     "output_type": "execute_result"
    }
   ],
   "source": [
    "df_年限 = df.年限.replace(['https://jobs.zhaopin.com/CC643811139J00068461915.htm'],np.nan)\n",
    "df_年限.value_counts()"
   ]
  },
  {
   "cell_type": "code",
   "execution_count": 31,
   "metadata": {
    "scrolled": false
   },
   "outputs": [
    {
     "data": {
      "text/plain": [
       "39674"
      ]
     },
     "execution_count": 31,
     "metadata": {},
     "output_type": "execute_result"
    }
   ],
   "source": [
    "df_年限.value_counts().sum()"
   ]
  },
  {
   "cell_type": "code",
   "execution_count": 32,
   "metadata": {},
   "outputs": [
    {
     "data": {
      "text/plain": [
       "Index(['不限', '1-3年', '3-5年', '无经验', '5-10年', '1年以下'], dtype='object')"
      ]
     },
     "execution_count": 32,
     "metadata": {},
     "output_type": "execute_result"
    }
   ],
   "source": [
    "df_年限.value_counts().index"
   ]
  },
  {
   "cell_type": "code",
   "execution_count": 33,
   "metadata": {},
   "outputs": [
    {
     "data": {
      "text/plain": [
       "不限       21566\n",
       "1-3年      9446\n",
       "3-5年      7090\n",
       "无经验        786\n",
       "5-10年      393\n",
       "1年以下       393\n",
       "Name: 年限, dtype: int64"
      ]
     },
     "execution_count": 33,
     "metadata": {},
     "output_type": "execute_result"
    }
   ],
   "source": [
    "df_年限.value_counts()"
   ]
  },
  {
   "cell_type": "code",
   "execution_count": 34,
   "metadata": {},
   "outputs": [
    {
     "data": {
      "text/plain": [
       "([<matplotlib.patches.Wedge at 0x24e378fc6a0>,\n",
       "  <matplotlib.patches.Wedge at 0x24e378fceb8>,\n",
       "  <matplotlib.patches.Wedge at 0x24e37905668>,\n",
       "  <matplotlib.patches.Wedge at 0x24e37905e10>,\n",
       "  <matplotlib.patches.Wedge at 0x24e3790e5f8>,\n",
       "  <matplotlib.patches.Wedge at 0x24e3790eda0>],\n",
       " [Text(-0.163781,1.18877,'不限'),\n",
       "  Text(-0.626192,-1.02366,'1-3年'),\n",
       "  Text(0.827067,-0.86946,'3-5年'),\n",
       "  Text(1.17914,-0.222763,'无经验'),\n",
       "  Text(1.19477,-0.111869,'5-10年'),\n",
       "  Text(1.19942,-0.0373378,'1年以下')],\n",
       " [Text(-0.0955387,0.69345,'54.4%'),\n",
       "  Text(-0.365279,-0.597136,'23.8%'),\n",
       "  Text(0.482456,-0.507185,'17.9%'),\n",
       "  Text(0.687833,-0.129945,'2.0%'),\n",
       "  Text(0.696952,-0.0652567,'1.0%'),\n",
       "  Text(0.699661,-0.0217804,'1.0%')])"
      ]
     },
     "execution_count": 34,
     "metadata": {},
     "output_type": "execute_result"
    },
    {
     "data": {
      "image/png": "[encoded data removed]",
      "text/plain": [
       "<Figure size 648x864 with 2 Axes>"
      ]
     },
     "metadata": {},
     "output_type": "display_data"
    }
   ],
   "source": [
    "fig2 = plt.figure(figsize=(9,12),facecolor='white')\n",
    "ax2_1 = fig2.add_subplot(2,1,1,facecolor='#cccccc')\n",
    "plt.bar(df_年限.value_counts().index,df_年限.value_counts(),width=0.5)\n",
    "plt.title('工作年限-职位数量分布图',fontsize=20)\n",
    "plt.xlabel('职位数量',fontsize=14)\n",
    "plt.ylabel('年限',fontsize=14)\n",
    "for i in range(len(df_年限.value_counts())):\n",
    "    plt.text(i-0.15,df_年限.value_counts()[i]+100,df_年限.value_counts()[i])\n",
    "\n",
    "ax2_2 = fig2.add_subplot(2,1,2)\n",
    "x2 = df_年限.value_counts()\n",
    "labels = list(df_年限.value_counts().index)\n",
    "explode = tuple([0.1]*len(x2))\n",
    "plt.pie(x2,explode=explode,labels=labels,autopct='%1.1f%%')"
   ]
  },
  {
   "cell_type": "code",
   "execution_count": 35,
   "metadata": {},
   "outputs": [
    {
     "data": {
      "text/plain": [
       "8.9      9360\n",
       "5.0      4723\n",
       "7.0      3936\n",
       "12.5     2414\n",
       "11.5     1971\n",
       "20.0     1574\n",
       "22.5     1572\n",
       "6.0      1571\n",
       "9.0      1529\n",
       "10.5     1185\n",
       "17.5     1182\n",
       "11.0     1181\n",
       "25.0     1181\n",
       "15.0     1173\n",
       "4.0       788\n",
       "8.0       785\n",
       "10.0      395\n",
       "11.25     395\n",
       "18.0      395\n",
       "40.0      395\n",
       "5.25      395\n",
       "7.5       395\n",
       "5.5       393\n",
       "19.0      393\n",
       "4.5       393\n",
       "合资          1\n",
       "Name: avg, dtype: int64"
      ]
     },
     "execution_count": 35,
     "metadata": {},
     "output_type": "execute_result"
    }
   ],
   "source": [
    "df.avg.value_counts()"
   ]
  },
  {
   "cell_type": "code",
   "execution_count": 36,
   "metadata": {},
   "outputs": [
    {
     "data": {
      "text/plain": [
       "8.9      9360\n",
       "5.0      4723\n",
       "7.0      3936\n",
       "12.5     2415\n",
       "11.5     1971\n",
       "20.0     1574\n",
       "22.5     1572\n",
       "6.0      1571\n",
       "9.0      1529\n",
       "10.5     1185\n",
       "17.5     1182\n",
       "25.0     1181\n",
       "11.0     1181\n",
       "15.0     1173\n",
       "4.0       788\n",
       "8.0       785\n",
       "18.0      395\n",
       "11.25     395\n",
       "7.5       395\n",
       "10.0      395\n",
       "40.0      395\n",
       "5.25      395\n",
       "5.5       393\n",
       "19.0      393\n",
       "4.5       393\n",
       "Name: avg, dtype: int64"
      ]
     },
     "execution_count": 36,
     "metadata": {},
     "output_type": "execute_result"
    }
   ],
   "source": [
    "df_avg = df.avg.replace(['合资'])\n",
    "df_avg.value_counts()"
   ]
  },
  {
   "cell_type": "code",
   "execution_count": 37,
   "metadata": {
    "scrolled": true
   },
   "outputs": [
    {
     "name": "stdout",
     "output_type": "stream",
     "text": [
      "<class 'pandas.core.frame.DataFrame'>\n",
      "RangeIndex: 39677 entries, 1 to 39677\n",
      "Data columns (total 2 columns):\n",
      "年限      39674 non-null object\n",
      "平均月薪    39675 non-null object\n",
      "dtypes: object(2)\n",
      "memory usage: 620.0+ KB\n"
     ]
    }
   ],
   "source": [
    "df3 = pd.DataFrame(data={'年限':df_年限,'平均月薪':df_avg})\n",
    "df3.info()"
   ]
  },
  {
   "cell_type": "code",
   "execution_count": 38,
   "metadata": {
    "scrolled": true
   },
   "outputs": [],
   "source": [
    "df3['平均月薪']=[float(i) for i in df3['平均月薪']]"
   ]
  },
  {
   "cell_type": "code",
   "execution_count": 39,
   "metadata": {},
   "outputs": [
    {
     "data": {
      "text/html": [
       "<div>\n",
       "<style scoped>\n",
       "    .dataframe tbody tr th:only-of-type {\n",
       "        vertical-align: middle;\n",
       "    }\n",
       "\n",
       "    .dataframe tbody tr th {\n",
       "        vertical-align: top;\n",
       "    }\n",
       "\n",
       "    .dataframe thead th {\n",
       "        text-align: right;\n",
       "    }\n",
       "</style>\n",
       "<table border=\"1\" class=\"dataframe\">\n",
       "  <thead>\n",
       "    <tr style=\"text-align: right;\">\n",
       "      <th></th>\n",
       "      <th>年限</th>\n",
       "      <th>平均月薪</th>\n",
       "    </tr>\n",
       "  </thead>\n",
       "  <tbody>\n",
       "    <tr>\n",
       "      <th>1</th>\n",
       "      <td>1-3年</td>\n",
       "      <td>8.00</td>\n",
       "    </tr>\n",
       "    <tr>\n",
       "      <th>2</th>\n",
       "      <td>不限</td>\n",
       "      <td>7.50</td>\n",
       "    </tr>\n",
       "    <tr>\n",
       "      <th>3</th>\n",
       "      <td>不限</td>\n",
       "      <td>12.50</td>\n",
       "    </tr>\n",
       "    <tr>\n",
       "      <th>4</th>\n",
       "      <td>不限</td>\n",
       "      <td>10.50</td>\n",
       "    </tr>\n",
       "    <tr>\n",
       "      <th>5</th>\n",
       "      <td>1-3年</td>\n",
       "      <td>11.25</td>\n",
       "    </tr>\n",
       "    <tr>\n",
       "      <th>6</th>\n",
       "      <td>1-3年</td>\n",
       "      <td>9.00</td>\n",
       "    </tr>\n",
       "    <tr>\n",
       "      <th>7</th>\n",
       "      <td>3-5年</td>\n",
       "      <td>18.00</td>\n",
       "    </tr>\n",
       "    <tr>\n",
       "      <th>8</th>\n",
       "      <td>1-3年</td>\n",
       "      <td>10.50</td>\n",
       "    </tr>\n",
       "    <tr>\n",
       "      <th>9</th>\n",
       "      <td>1-3年</td>\n",
       "      <td>5.00</td>\n",
       "    </tr>\n",
       "    <tr>\n",
       "      <th>10</th>\n",
       "      <td>3-5年</td>\n",
       "      <td>12.50</td>\n",
       "    </tr>\n",
       "  </tbody>\n",
       "</table>\n",
       "</div>"
      ],
      "text/plain": [
       "      年限   平均月薪\n",
       "1   1-3年   8.00\n",
       "2     不限   7.50\n",
       "3     不限  12.50\n",
       "4     不限  10.50\n",
       "5   1-3年  11.25\n",
       "6   1-3年   9.00\n",
       "7   3-5年  18.00\n",
       "8   1-3年  10.50\n",
       "9   1-3年   5.00\n",
       "10  3-5年  12.50"
      ]
     },
     "execution_count": 39,
     "metadata": {},
     "output_type": "execute_result"
    }
   ],
   "source": [
    "df3.head(10)"
   ]
  },
  {
   "cell_type": "code",
   "execution_count": 40,
   "metadata": {
    "scrolled": true
   },
   "outputs": [
    {
     "data": {
      "text/plain": [
       "numpy.float64"
      ]
     },
     "execution_count": 40,
     "metadata": {},
     "output_type": "execute_result"
    }
   ],
   "source": [
    "type(df3['平均月薪'].iloc[0])"
   ]
  },
  {
   "cell_type": "code",
   "execution_count": 41,
   "metadata": {
    "scrolled": false
   },
   "outputs": [
    {
     "data": {
      "text/plain": [
       "年限\n",
       "1-3年     12.834030\n",
       "1年以下      6.000000\n",
       "3-5年     17.975599\n",
       "5-10年    20.000000\n",
       "不限        7.629544\n",
       "无经验       5.500000\n",
       "Name: 平均月薪, dtype: float64"
      ]
     },
     "execution_count": 41,
     "metadata": {},
     "output_type": "execute_result"
    }
   ],
   "source": [
    "group3 = df3['平均月薪'].groupby(df3['年限'])\n",
    "group3.mean()"
   ]
  },
  {
   "cell_type": "code",
   "execution_count": 42,
   "metadata": {},
   "outputs": [
    {
     "data": {
      "text/plain": [
       "10.781839949590422"
      ]
     },
     "execution_count": 42,
     "metadata": {},
     "output_type": "execute_result"
    }
   ],
   "source": [
    "df3['平均月薪'].mean()"
   ]
  },
  {
   "cell_type": "code",
   "execution_count": 43,
   "metadata": {
    "scrolled": true
   },
   "outputs": [
    {
     "data": {
      "text/plain": [
       "无经验       5.50\n",
       "1年以下      6.00\n",
       "不限        7.63\n",
       "平均值      10.78\n",
       "1-3年     12.83\n",
       "3-5年     17.98\n",
       "5-10年    20.00\n",
       "dtype: float64"
      ]
     },
     "execution_count": 43,
     "metadata": {},
     "output_type": "execute_result"
    }
   ],
   "source": [
    "s3 = pd.Series(data = {'平均值':df3['平均月薪'].mean()})\n",
    "res3 = group3.mean().append(s3)\n",
    "res = res3.sort_values(ascending=True).round(2)\n",
    "res"
   ]
  },
  {
   "cell_type": "code",
   "execution_count": 44,
   "metadata": {},
   "outputs": [
    {
     "data": {
      "image/png": "[encoded data removed]",
      "text/plain": [
       "<Figure size 864x576 with 1 Axes>"
      ]
     },
     "metadata": {},
     "output_type": "display_data"
    }
   ],
   "source": [
    "fig3 = plt.figure(figsize=(12,8),facecolor='white')\n",
    "plt.bar(res.index,res,width=0.5)\n",
    "plt.title('工作年限-薪资分布图',fontsize=20)\n",
    "plt.xlabel('年限',fontsize=16)\n",
    "plt.ylabel('薪资',fontsize=16)\n",
    "for i in range(len(res)):\n",
    "    plt.text(i-0.15,res[i]+0.3,res[i])"
   ]
  },
  {
   "cell_type": "code",
   "execution_count": 45,
   "metadata": {},
   "outputs": [
    {
     "data": {
      "text/html": [
       "<div>\n",
       "<style scoped>\n",
       "    .dataframe tbody tr th:only-of-type {\n",
       "        vertical-align: middle;\n",
       "    }\n",
       "\n",
       "    .dataframe tbody tr th {\n",
       "        vertical-align: top;\n",
       "    }\n",
       "\n",
       "    .dataframe thead th {\n",
       "        text-align: right;\n",
       "    }\n",
       "</style>\n",
       "<table border=\"1\" class=\"dataframe\">\n",
       "  <thead>\n",
       "    <tr style=\"text-align: right;\">\n",
       "      <th></th>\n",
       "      <th>城市</th>\n",
       "      <th>平均薪资</th>\n",
       "    </tr>\n",
       "  </thead>\n",
       "  <tbody>\n",
       "    <tr>\n",
       "      <th>1</th>\n",
       "      <td>西安</td>\n",
       "      <td>8.00</td>\n",
       "    </tr>\n",
       "    <tr>\n",
       "      <th>2</th>\n",
       "      <td>广州</td>\n",
       "      <td>7.50</td>\n",
       "    </tr>\n",
       "    <tr>\n",
       "      <th>3</th>\n",
       "      <td>成都</td>\n",
       "      <td>12.50</td>\n",
       "    </tr>\n",
       "    <tr>\n",
       "      <th>4</th>\n",
       "      <td>武汉</td>\n",
       "      <td>10.50</td>\n",
       "    </tr>\n",
       "    <tr>\n",
       "      <th>5</th>\n",
       "      <td>广州</td>\n",
       "      <td>11.25</td>\n",
       "    </tr>\n",
       "    <tr>\n",
       "      <th>6</th>\n",
       "      <td>长沙</td>\n",
       "      <td>9.00</td>\n",
       "    </tr>\n",
       "    <tr>\n",
       "      <th>7</th>\n",
       "      <td>北京</td>\n",
       "      <td>18.00</td>\n",
       "    </tr>\n",
       "    <tr>\n",
       "      <th>8</th>\n",
       "      <td>武汉</td>\n",
       "      <td>10.50</td>\n",
       "    </tr>\n",
       "    <tr>\n",
       "      <th>9</th>\n",
       "      <td>长春</td>\n",
       "      <td>5.00</td>\n",
       "    </tr>\n",
       "    <tr>\n",
       "      <th>10</th>\n",
       "      <td>郑州</td>\n",
       "      <td>12.50</td>\n",
       "    </tr>\n",
       "  </tbody>\n",
       "</table>\n",
       "</div>"
      ],
      "text/plain": [
       "    城市   平均薪资\n",
       "1   西安   8.00\n",
       "2   广州   7.50\n",
       "3   成都  12.50\n",
       "4   武汉  10.50\n",
       "5   广州  11.25\n",
       "6   长沙   9.00\n",
       "7   北京  18.00\n",
       "8   武汉  10.50\n",
       "9   长春   5.00\n",
       "10  郑州  12.50"
      ]
     },
     "execution_count": 45,
     "metadata": {},
     "output_type": "execute_result"
    }
   ],
   "source": [
    "df4=pd.DataFrame(data={'城市':df_城市,'平均薪资':df3['平均月薪']})\n",
    "df4.head(10)"
   ]
  },
  {
   "cell_type": "code",
   "execution_count": 46,
   "metadata": {},
   "outputs": [
    {
     "data": {
      "text/plain": [
       "城市\n",
       "上海      14.631830\n",
       "东莞       9.000000\n",
       "北京      18.504517\n",
       "南京       8.978358\n",
       "合肥       7.258312\n",
       "呼和浩特     8.900000\n",
       "哈尔滨      5.000000\n",
       "大连       9.661647\n",
       "天津       8.900000\n",
       "太原       8.900000\n",
       "宁波       5.000000\n",
       "广州       8.367154\n",
       "成都       7.974253\n",
       "无锡       8.900000\n",
       "日本      17.500000\n",
       "杭州       7.651252\n",
       "武汉      10.082995\n",
       "沈阳       8.900000\n",
       "济南       7.161475\n",
       "深圳      12.516553\n",
       "珠海       8.875000\n",
       "苏州       5.000000\n",
       "西宁       8.900000\n",
       "西安       8.448562\n",
       "贵阳      11.500000\n",
       "郑州       9.182927\n",
       "重庆       8.258040\n",
       "长春       6.937580\n",
       "长沙       8.603624\n",
       "青岛       5.500000\n",
       "Name: 平均薪资, dtype: float64"
      ]
     },
     "execution_count": 46,
     "metadata": {},
     "output_type": "execute_result"
    }
   ],
   "source": [
    "group4 = df4['平均薪资'].groupby(df4['城市'])\n",
    "group4.mean()"
   ]
  },
  {
   "cell_type": "code",
   "execution_count": 47,
   "metadata": {
    "scrolled": true
   },
   "outputs": [
    {
     "data": {
      "text/plain": [
       "10.781839949590422"
      ]
     },
     "execution_count": 47,
     "metadata": {},
     "output_type": "execute_result"
    }
   ],
   "source": [
    "df4['平均薪资'].mean()"
   ]
  },
  {
   "cell_type": "code",
   "execution_count": 48,
   "metadata": {
    "collapsed": true
   },
   "outputs": [
    {
     "data": {
      "text/plain": [
       "苏州       5.00\n",
       "哈尔滨      5.00\n",
       "宁波       5.00\n",
       "青岛       5.50\n",
       "长春       6.94\n",
       "济南       7.16\n",
       "合肥       7.26\n",
       "杭州       7.65\n",
       "成都       7.97\n",
       "重庆       8.26\n",
       "广州       8.37\n",
       "西安       8.45\n",
       "长沙       8.60\n",
       "珠海       8.88\n",
       "太原       8.90\n",
       "无锡       8.90\n",
       "呼和浩特     8.90\n",
       "沈阳       8.90\n",
       "西宁       8.90\n",
       "天津       8.90\n",
       "南京       8.98\n",
       "东莞       9.00\n",
       "郑州       9.18\n",
       "大连       9.66\n",
       "武汉      10.08\n",
       "平均值     10.78\n",
       "贵阳      11.50\n",
       "深圳      12.52\n",
       "上海      14.63\n",
       "日本      17.50\n",
       "北京      18.50\n",
       "dtype: float64"
      ]
     },
     "execution_count": 48,
     "metadata": {},
     "output_type": "execute_result"
    }
   ],
   "source": [
    "s4 = pd.Series(data={'平均值':df4['平均薪资'].mean()})\n",
    "res4 = group4.mean().append(s4)\n",
    "res = res4.sort_values(ascending=True).round(2)\n",
    "res"
   ]
  },
  {
   "cell_type": "code",
   "execution_count": 49,
   "metadata": {},
   "outputs": [
    {
     "data": {
      "image/png": "[encoded data removed]",
      "text/plain": [
       "<Figure size 1440x648 with 1 Axes>"
      ]
     },
     "metadata": {},
     "output_type": "display_data"
    }
   ],
   "source": [
    "fig4 = plt.figure(figsize=(20,9),facecolor='white')\n",
    "plt.bar(res.index,res,width=0.5)\n",
    "plt.title('城市-平均薪资分布图',fontsize=20)\n",
    "plt.xlabel('城市',fontsize=16)\n",
    "plt.ylabel('薪资',fontsize=16)\n",
    "for i in range(len(res)):\n",
    "    plt.text(i-0.25,res[i]+0.3,res[i])"
   ]
  },
  {
   "cell_type": "code",
   "execution_count": 50,
   "metadata": {},
   "outputs": [],
   "source": [
    "df5 = df[df['城市']=='长沙'][['年限']]\n",
    "df6 = df[df['城市']=='深圳'][['年限']]"
   ]
  },
  {
   "cell_type": "code",
   "execution_count": 51,
   "metadata": {},
   "outputs": [
    {
     "data": {
      "text/plain": [
       "不限      783\n",
       "3-5年    395\n",
       "1-3年    395\n",
       "Name: 年限, dtype: int64"
      ]
     },
     "execution_count": 51,
     "metadata": {},
     "output_type": "execute_result"
    }
   ],
   "source": [
    "df5['年限'].value_counts()"
   ]
  },
  {
   "cell_type": "code",
   "execution_count": 52,
   "metadata": {
    "scrolled": true
   },
   "outputs": [
    {
     "data": {
      "text/plain": [
       "1-3年    788\n",
       "不限      390\n",
       "Name: 年限, dtype: int64"
      ]
     },
     "execution_count": 52,
     "metadata": {},
     "output_type": "execute_result"
    }
   ],
   "source": [
    "df6['年限'].value_counts()"
   ]
  },
  {
   "cell_type": "code",
   "execution_count": null,
   "metadata": {},
   "outputs": [],
   "source": []
  },
  {
   "cell_type": "code",
   "execution_count": null,
   "metadata": {},
   "outputs": [],
   "source": []
  }
 ],
 "metadata": {
  "kernelspec": {
   "display_name": "Python 3",
   "language": "python",
   "name": "python3"
  },
  "language_info": {
   "codemirror_mode": {
    "name": "ipython",
    "version": 3
   },
   "file_extension": ".py",
   "mimetype": "text/x-python",
   "name": "python",
   "nbconvert_exporter": "python",
   "pygments_lexer": "ipython3",
   "version": "3.6.5"
  }
 },
 "nbformat": 4,
 "nbformat_minor": 2
}
